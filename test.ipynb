{
 "cells": [
  {
   "cell_type": "code",
   "execution_count": 8,
   "metadata": {},
   "outputs": [
    {
     "name": "stdout",
     "output_type": "stream",
     "text": [
      "-5.94406749955666e-17*x**3 + 0.999999999999998*x**2 + 6.38352012227532e-15*x - 5.6843418860808e-15\n"
     ]
    }
   ],
   "source": [
    "import numpy as np\n",
    "import scipy.interpolate as interp\n",
    "import sympy as sp\n",
    "\n",
    "# Example data points\n",
    "x_data = np.array([0, 1, 2, 3, 4, 5])\n",
    "T_data = np.array([0, 1, 4, 9, 16, 25])\n",
    "\n",
    "# Interpolating the data\n",
    "interpolated_function = interp.interp1d(x_data, T_data, kind='quadratic', fill_value=\"extrapolate\")\n",
    "\n",
    "# Define the sympy variable\n",
    "x = sp.symbols('x')\n",
    "\n",
    "# Create a sympy expression from the interpolated function\n",
    "# For simplicity, we evaluate the interpolated function at various points and create a polynomial fit\n",
    "x_vals = np.linspace(min(x_data), max(x_data), 100)\n",
    "T_vals = interpolated_function(x_vals)\n",
    "\n",
    "# Fit a polynomial to the interpolated data\n",
    "coeffs = np.polyfit(x_vals, T_vals, deg=3)  # You can adjust the degree as needed\n",
    "\n",
    "# Create a sympy expression for the polynomial\n",
    "T_expr = sum(c * x**i for i, c in enumerate(coeffs[::-1]))\n",
    "\n",
    "print(T_expr)"
   ]
  }
 ],
 "metadata": {
  "kernelspec": {
   "display_name": "Python 3",
   "language": "python",
   "name": "python3"
  },
  "language_info": {
   "codemirror_mode": {
    "name": "ipython",
    "version": 3
   },
   "file_extension": ".py",
   "mimetype": "text/x-python",
   "name": "python",
   "nbconvert_exporter": "python",
   "pygments_lexer": "ipython3",
   "version": "3.10.12"
  }
 },
 "nbformat": 4,
 "nbformat_minor": 2
}
